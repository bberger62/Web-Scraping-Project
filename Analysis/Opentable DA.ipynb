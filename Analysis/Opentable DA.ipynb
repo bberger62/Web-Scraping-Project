{
 "cells": [
  {
   "cell_type": "code",
   "execution_count": 2,
   "metadata": {},
   "outputs": [],
   "source": [
    "import pandas as pd\n",
    "import numpy as np"
   ]
  },
  {
   "cell_type": "code",
   "execution_count": 3,
   "metadata": {},
   "outputs": [],
   "source": [
    "df = pd.read_csv('opentable_scrape.csv')"
   ]
  },
  {
   "cell_type": "code",
   "execution_count": 4,
   "metadata": {},
   "outputs": [
    {
     "data": {
      "text/plain": [
       "0       4.5 stars out of 5\n",
       "1       4.6 stars out of 5\n",
       "2       4.5 stars out of 5\n",
       "3       4.6 stars out of 5\n",
       "4       4.4 stars out of 5\n",
       "               ...        \n",
       "1257    4.6 stars out of 5\n",
       "1258    4.3 stars out of 5\n",
       "1259    4.7 stars out of 5\n",
       "1260    4.7 stars out of 5\n",
       "1261    4.6 stars out of 5\n",
       "Name: rating_list, Length: 1262, dtype: object"
      ]
     },
     "execution_count": 4,
     "metadata": {},
     "output_type": "execute_result"
    }
   ],
   "source": [
    "df.rating_list"
   ]
  },
  {
   "cell_type": "code",
   "execution_count": 11,
   "metadata": {
    "scrolled": true
   },
   "outputs": [
    {
     "data": {
      "text/plain": [
       "4.5"
      ]
     },
     "execution_count": 11,
     "metadata": {},
     "output_type": "execute_result"
    }
   ],
   "source": [
    "float(df.rating_list[0][:4])"
   ]
  },
  {
   "cell_type": "code",
   "execution_count": 6,
   "metadata": {},
   "outputs": [
    {
     "data": {
      "text/html": [
       "<div>\n",
       "<style scoped>\n",
       "    .dataframe tbody tr th:only-of-type {\n",
       "        vertical-align: middle;\n",
       "    }\n",
       "\n",
       "    .dataframe tbody tr th {\n",
       "        vertical-align: top;\n",
       "    }\n",
       "\n",
       "    .dataframe thead th {\n",
       "        text-align: right;\n",
       "    }\n",
       "</style>\n",
       "<table border=\"1\" class=\"dataframe\">\n",
       "  <thead>\n",
       "    <tr style=\"text-align: right;\">\n",
       "      <th></th>\n",
       "      <th>booked_today_list</th>\n",
       "      <th>delivery</th>\n",
       "      <th>expensive</th>\n",
       "      <th>genre</th>\n",
       "      <th>location</th>\n",
       "      <th>num_reviews_list</th>\n",
       "      <th>rating_list</th>\n",
       "      <th>rest_name</th>\n",
       "    </tr>\n",
       "  </thead>\n",
       "  <tbody>\n",
       "    <tr>\n",
       "      <td>0</td>\n",
       "      <td>NaN</td>\n",
       "      <td>Delivery</td>\n",
       "      <td>$    $</td>\n",
       "      <td>Greek</td>\n",
       "      <td>Midtown West</td>\n",
       "      <td>(943)</td>\n",
       "      <td>4.5 stars out of 5</td>\n",
       "      <td>Souvlaki GR Midtown</td>\n",
       "    </tr>\n",
       "    <tr>\n",
       "      <td>1</td>\n",
       "      <td>NaN</td>\n",
       "      <td>Delivery</td>\n",
       "      <td>$    $</td>\n",
       "      <td>American</td>\n",
       "      <td>Upper West Side</td>\n",
       "      <td>(93)</td>\n",
       "      <td>4.6 stars out of 5</td>\n",
       "      <td>Trump Grill</td>\n",
       "    </tr>\n",
       "    <tr>\n",
       "      <td>2</td>\n",
       "      <td>NaN</td>\n",
       "      <td>Delivery</td>\n",
       "      <td>$    $</td>\n",
       "      <td>Mexican</td>\n",
       "      <td>Hell's Kitchen</td>\n",
       "      <td>(1005)</td>\n",
       "      <td>4.5 stars out of 5</td>\n",
       "      <td>Tacuba Hell's Kitchen</td>\n",
       "    </tr>\n",
       "    <tr>\n",
       "      <td>3</td>\n",
       "      <td>NaN</td>\n",
       "      <td>Delivery</td>\n",
       "      <td>$    $</td>\n",
       "      <td>Seafood</td>\n",
       "      <td>Chelsea</td>\n",
       "      <td>(473)</td>\n",
       "      <td>4.6 stars out of 5</td>\n",
       "      <td>Cull and Pistol</td>\n",
       "    </tr>\n",
       "    <tr>\n",
       "      <td>4</td>\n",
       "      <td>NaN</td>\n",
       "      <td>Delivery</td>\n",
       "      <td>$    $    $</td>\n",
       "      <td>Italian</td>\n",
       "      <td>Greenwich Village</td>\n",
       "      <td>(519)</td>\n",
       "      <td>4.4 stars out of 5</td>\n",
       "      <td>Gradisca</td>\n",
       "    </tr>\n",
       "  </tbody>\n",
       "</table>\n",
       "</div>"
      ],
      "text/plain": [
       "   booked_today_list  delivery          expensive     genre  \\\n",
       "0                NaN  Delivery       $    $           Greek   \n",
       "1                NaN  Delivery       $    $        American   \n",
       "2                NaN  Delivery       $    $         Mexican   \n",
       "3                NaN  Delivery       $    $         Seafood   \n",
       "4                NaN  Delivery    $    $    $       Italian   \n",
       "\n",
       "            location num_reviews_list         rating_list  \\\n",
       "0       Midtown West            (943)  4.5 stars out of 5   \n",
       "1    Upper West Side             (93)  4.6 stars out of 5   \n",
       "2     Hell's Kitchen           (1005)  4.5 stars out of 5   \n",
       "3            Chelsea            (473)  4.6 stars out of 5   \n",
       "4  Greenwich Village            (519)  4.4 stars out of 5   \n",
       "\n",
       "               rest_name  \n",
       "0    Souvlaki GR Midtown  \n",
       "1            Trump Grill  \n",
       "2  Tacuba Hell's Kitchen  \n",
       "3        Cull and Pistol  \n",
       "4               Gradisca  "
      ]
     },
     "execution_count": 6,
     "metadata": {},
     "output_type": "execute_result"
    }
   ],
   "source": [
    "df.head()"
   ]
  },
  {
   "cell_type": "code",
   "execution_count": 17,
   "metadata": {},
   "outputs": [
    {
     "data": {
      "text/plain": [
       "0        943)\n",
       "1         93)\n",
       "2       1005)\n",
       "3        473)\n",
       "4        519)\n",
       "        ...  \n",
       "1257    1091)\n",
       "1258    2853)\n",
       "1259    4665)\n",
       "1260      43)\n",
       "1261    1540)\n",
       "Name: num_reviews_list, Length: 1262, dtype: object"
      ]
     },
     "execution_count": 17,
     "metadata": {},
     "output_type": "execute_result"
    }
   ],
   "source": [
    "df['num_reviews_list'].str.replace('(','')"
   ]
  },
  {
   "cell_type": "code",
   "execution_count": 27,
   "metadata": {},
   "outputs": [
    {
     "data": {
      "text/plain": [
       "2"
      ]
     },
     "execution_count": 27,
     "metadata": {},
     "output_type": "execute_result"
    }
   ],
   "source": [
    "df.expensive[0].count('$')"
   ]
  },
  {
   "cell_type": "code",
   "execution_count": 34,
   "metadata": {},
   "outputs": [
    {
     "name": "stdout",
     "output_type": "stream",
     "text": [
      "Swag\n"
     ]
    }
   ],
   "source": [
    "x = 8\n",
    "\n",
    "\n",
    "\n",
    "if x <10:\n",
    "    print('Swag')\n",
    "else: print('lame')\n",
    "    \n",
    "    "
   ]
  },
  {
   "cell_type": "code",
   "execution_count": 7,
   "metadata": {},
   "outputs": [],
   "source": [
    "df['expensive'] = df['expensive'].apply(lambda x: x.count('$'))"
   ]
  },
  {
   "cell_type": "code",
   "execution_count": 10,
   "metadata": {},
   "outputs": [],
   "source": [
    "df['num_reviews_list'] = df['num_reviews_list'].str.replace('(','')"
   ]
  },
  {
   "cell_type": "code",
   "execution_count": 11,
   "metadata": {},
   "outputs": [],
   "source": [
    "df['num_reviews_list'] = df['num_reviews_list'].str.replace(')','')"
   ]
  },
  {
   "cell_type": "code",
   "execution_count": 15,
   "metadata": {},
   "outputs": [
    {
     "data": {
      "text/plain": [
       "943"
      ]
     },
     "execution_count": 15,
     "metadata": {},
     "output_type": "execute_result"
    }
   ],
   "source": [
    "int(df['num_reviews_list'][0])"
   ]
  },
  {
   "cell_type": "code",
   "execution_count": null,
   "metadata": {},
   "outputs": [],
   "source": [
    "df['num_reviews_list']"
   ]
  },
  {
   "cell_type": "code",
   "execution_count": 8,
   "metadata": {},
   "outputs": [
    {
     "data": {
      "text/html": [
       "<div>\n",
       "<style scoped>\n",
       "    .dataframe tbody tr th:only-of-type {\n",
       "        vertical-align: middle;\n",
       "    }\n",
       "\n",
       "    .dataframe tbody tr th {\n",
       "        vertical-align: top;\n",
       "    }\n",
       "\n",
       "    .dataframe thead th {\n",
       "        text-align: right;\n",
       "    }\n",
       "</style>\n",
       "<table border=\"1\" class=\"dataframe\">\n",
       "  <thead>\n",
       "    <tr style=\"text-align: right;\">\n",
       "      <th></th>\n",
       "      <th>booked_today_list</th>\n",
       "      <th>delivery</th>\n",
       "      <th>expensive</th>\n",
       "      <th>genre</th>\n",
       "      <th>location</th>\n",
       "      <th>num_reviews_list</th>\n",
       "      <th>rating_list</th>\n",
       "      <th>rest_name</th>\n",
       "    </tr>\n",
       "  </thead>\n",
       "  <tbody>\n",
       "    <tr>\n",
       "      <td>0</td>\n",
       "      <td>NaN</td>\n",
       "      <td>Delivery</td>\n",
       "      <td>2</td>\n",
       "      <td>Greek</td>\n",
       "      <td>Midtown West</td>\n",
       "      <td>(943)</td>\n",
       "      <td>4.5 stars out of 5</td>\n",
       "      <td>Souvlaki GR Midtown</td>\n",
       "    </tr>\n",
       "    <tr>\n",
       "      <td>1</td>\n",
       "      <td>NaN</td>\n",
       "      <td>Delivery</td>\n",
       "      <td>2</td>\n",
       "      <td>American</td>\n",
       "      <td>Upper West Side</td>\n",
       "      <td>(93)</td>\n",
       "      <td>4.6 stars out of 5</td>\n",
       "      <td>Trump Grill</td>\n",
       "    </tr>\n",
       "    <tr>\n",
       "      <td>2</td>\n",
       "      <td>NaN</td>\n",
       "      <td>Delivery</td>\n",
       "      <td>2</td>\n",
       "      <td>Mexican</td>\n",
       "      <td>Hell's Kitchen</td>\n",
       "      <td>(1005)</td>\n",
       "      <td>4.5 stars out of 5</td>\n",
       "      <td>Tacuba Hell's Kitchen</td>\n",
       "    </tr>\n",
       "    <tr>\n",
       "      <td>3</td>\n",
       "      <td>NaN</td>\n",
       "      <td>Delivery</td>\n",
       "      <td>2</td>\n",
       "      <td>Seafood</td>\n",
       "      <td>Chelsea</td>\n",
       "      <td>(473)</td>\n",
       "      <td>4.6 stars out of 5</td>\n",
       "      <td>Cull and Pistol</td>\n",
       "    </tr>\n",
       "    <tr>\n",
       "      <td>4</td>\n",
       "      <td>NaN</td>\n",
       "      <td>Delivery</td>\n",
       "      <td>3</td>\n",
       "      <td>Italian</td>\n",
       "      <td>Greenwich Village</td>\n",
       "      <td>(519)</td>\n",
       "      <td>4.4 stars out of 5</td>\n",
       "      <td>Gradisca</td>\n",
       "    </tr>\n",
       "    <tr>\n",
       "      <td>...</td>\n",
       "      <td>...</td>\n",
       "      <td>...</td>\n",
       "      <td>...</td>\n",
       "      <td>...</td>\n",
       "      <td>...</td>\n",
       "      <td>...</td>\n",
       "      <td>...</td>\n",
       "      <td>...</td>\n",
       "    </tr>\n",
       "    <tr>\n",
       "      <td>1257</td>\n",
       "      <td>NaN</td>\n",
       "      <td>Delivery</td>\n",
       "      <td>3</td>\n",
       "      <td>Contemporary Italian</td>\n",
       "      <td>East Village</td>\n",
       "      <td>(1091)</td>\n",
       "      <td>4.6 stars out of 5</td>\n",
       "      <td>Cacio e Pepe</td>\n",
       "    </tr>\n",
       "    <tr>\n",
       "      <td>1258</td>\n",
       "      <td>NaN</td>\n",
       "      <td>Delivery</td>\n",
       "      <td>2</td>\n",
       "      <td>Italian</td>\n",
       "      <td>Theater District / Times Square</td>\n",
       "      <td>(2853)</td>\n",
       "      <td>4.3 stars out of 5</td>\n",
       "      <td>Ceci Italian Restaurant</td>\n",
       "    </tr>\n",
       "    <tr>\n",
       "      <td>1259</td>\n",
       "      <td>NaN</td>\n",
       "      <td>Delivery</td>\n",
       "      <td>3</td>\n",
       "      <td>Italian</td>\n",
       "      <td>Theater District / Times Square</td>\n",
       "      <td>(4665)</td>\n",
       "      <td>4.7 stars out of 5</td>\n",
       "      <td>La Masseria</td>\n",
       "    </tr>\n",
       "    <tr>\n",
       "      <td>1260</td>\n",
       "      <td>NaN</td>\n",
       "      <td>Delivery</td>\n",
       "      <td>2</td>\n",
       "      <td>American</td>\n",
       "      <td>Chelsea</td>\n",
       "      <td>(43)</td>\n",
       "      <td>4.7 stars out of 5</td>\n",
       "      <td>Westville - Chelsea</td>\n",
       "    </tr>\n",
       "    <tr>\n",
       "      <td>1261</td>\n",
       "      <td>NaN</td>\n",
       "      <td>Delivery</td>\n",
       "      <td>3</td>\n",
       "      <td>Indian</td>\n",
       "      <td>Midtown East</td>\n",
       "      <td>(1540)</td>\n",
       "      <td>4.6 stars out of 5</td>\n",
       "      <td>Amma</td>\n",
       "    </tr>\n",
       "  </tbody>\n",
       "</table>\n",
       "<p>1262 rows × 8 columns</p>\n",
       "</div>"
      ],
      "text/plain": [
       "      booked_today_list  delivery  expensive                 genre  \\\n",
       "0                   NaN  Delivery          2                 Greek   \n",
       "1                   NaN  Delivery          2              American   \n",
       "2                   NaN  Delivery          2               Mexican   \n",
       "3                   NaN  Delivery          2               Seafood   \n",
       "4                   NaN  Delivery          3               Italian   \n",
       "...                 ...       ...        ...                   ...   \n",
       "1257                NaN  Delivery          3  Contemporary Italian   \n",
       "1258                NaN  Delivery          2               Italian   \n",
       "1259                NaN  Delivery          3               Italian   \n",
       "1260                NaN  Delivery          2              American   \n",
       "1261                NaN  Delivery          3                Indian   \n",
       "\n",
       "                             location num_reviews_list         rating_list  \\\n",
       "0                        Midtown West            (943)  4.5 stars out of 5   \n",
       "1                     Upper West Side             (93)  4.6 stars out of 5   \n",
       "2                      Hell's Kitchen           (1005)  4.5 stars out of 5   \n",
       "3                             Chelsea            (473)  4.6 stars out of 5   \n",
       "4                   Greenwich Village            (519)  4.4 stars out of 5   \n",
       "...                               ...              ...                 ...   \n",
       "1257                     East Village           (1091)  4.6 stars out of 5   \n",
       "1258  Theater District / Times Square           (2853)  4.3 stars out of 5   \n",
       "1259  Theater District / Times Square           (4665)  4.7 stars out of 5   \n",
       "1260                          Chelsea             (43)  4.7 stars out of 5   \n",
       "1261                     Midtown East           (1540)  4.6 stars out of 5   \n",
       "\n",
       "                    rest_name  \n",
       "0         Souvlaki GR Midtown  \n",
       "1                 Trump Grill  \n",
       "2       Tacuba Hell's Kitchen  \n",
       "3             Cull and Pistol  \n",
       "4                    Gradisca  \n",
       "...                       ...  \n",
       "1257             Cacio e Pepe  \n",
       "1258  Ceci Italian Restaurant  \n",
       "1259              La Masseria  \n",
       "1260      Westville - Chelsea  \n",
       "1261                     Amma  \n",
       "\n",
       "[1262 rows x 8 columns]"
      ]
     },
     "execution_count": 8,
     "metadata": {},
     "output_type": "execute_result"
    }
   ],
   "source": [
    "df"
   ]
  }
 ],
 "metadata": {
  "kernelspec": {
   "display_name": "Python 3",
   "language": "python",
   "name": "python3"
  },
  "language_info": {
   "codemirror_mode": {
    "name": "ipython",
    "version": 3
   },
   "file_extension": ".py",
   "mimetype": "text/x-python",
   "name": "python",
   "nbconvert_exporter": "python",
   "pygments_lexer": "ipython3",
   "version": "3.7.4"
  }
 },
 "nbformat": 4,
 "nbformat_minor": 2
}
